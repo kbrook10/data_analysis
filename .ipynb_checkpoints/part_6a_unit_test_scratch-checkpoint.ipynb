{
 "cells": [
  {
   "cell_type": "code",
   "execution_count": 8,
   "metadata": {
    "collapsed": true
   },
   "outputs": [],
   "source": [
    "### Step 1: Unit Testing Import necessary libraries\n",
    "import pandas as pd\n",
    "from urllib.request import urlretrieve\n",
    "\n",
    "# Testing a unit of code to ensure that it does what we expect..."
   ]
  },
  {
   "cell_type": "code",
   "execution_count": 3,
   "metadata": {
    "collapsed": true
   },
   "outputs": [],
   "source": [
    "### Step 2: Import package and assign to variable - To examine the output of the function\n",
    "\n",
    "from jworkflow_pkg.data import get_bdata\n",
    "\n",
    "data = get_bdata()"
   ]
  },
  {
   "cell_type": "code",
   "execution_count": 6,
   "metadata": {},
   "outputs": [
    {
     "data": {
      "text/plain": [
       "True"
      ]
     },
     "execution_count": 6,
     "metadata": {},
     "output_type": "execute_result"
    }
   ],
   "source": [
    "### Step 3: Ensure the columns equal what we expect\n",
    "\n",
    "# all -> Used to ensure all elements are True\n",
    "\n",
    "all(data.columns == ['West', 'East', 'Total'])"
   ]
  },
  {
   "cell_type": "code",
   "execution_count": 7,
   "metadata": {
    "collapsed": true
   },
   "outputs": [],
   "source": [
    "# Step 4: Create assertions to test TRUE for columns\n",
    "\n",
    "assert all(data.columns == ['West', 'East', 'Total'])"
   ]
  },
  {
   "cell_type": "code",
   "execution_count": 10,
   "metadata": {},
   "outputs": [],
   "source": [
    "# Step 5: Create test for DatetimeIndex\n",
    "\n",
    "assert(isinstance(data.index, pd.DatetimeIndex))"
   ]
  },
  {
   "cell_type": "code",
   "execution_count": 11,
   "metadata": {
    "collapsed": true
   },
   "outputs": [],
   "source": [
    "# Step 6: Place assertions into a function\n",
    "\n",
    "def test_bike_data():\n",
    "    data = get_bdata()\n",
    "    assert all(data.columns == ['West', 'East', 'Total'])\n",
    "    assert(isinstance(data.index, pd.DatetimeIndex))"
   ]
  },
  {
   "cell_type": "code",
   "execution_count": 12,
   "metadata": {
    "collapsed": true
   },
   "outputs": [],
   "source": [
    "# Step 7: Automate test with Unit Test Frameworks\n",
    "\n",
    "## (Tip) PyTest is a recommended option https://docs.pytest.org/en/latest/\n"
   ]
  },
  {
   "cell_type": "code",
   "execution_count": 13,
   "metadata": {
    "collapsed": true
   },
   "outputs": [],
   "source": [
    "# Step 8: Create Test Directory within the root directory of project\n",
    "\n",
    "# via $ mkdir jworkflow_pkg/tests\n",
    "# via $ nano jworkflow_pkg/tests/test_data.py -> use test at the beginning of the file name\n",
    "# take code and drop into file...\n",
    "# Save and close"
   ]
  },
  {
   "cell_type": "code",
   "execution_count": 14,
   "metadata": {
    "collapsed": true
   },
   "outputs": [],
   "source": [
    "# Step 9: Invoke PyTest \n",
    "## This will test everything within the jworkflow_pkg directory\n",
    "\n",
    "# via $ python -m pytest jworkflow_pkg"
   ]
  },
  {
   "cell_type": "code",
   "execution_count": null,
   "metadata": {
    "collapsed": true
   },
   "outputs": [],
   "source": []
  },
  {
   "cell_type": "code",
   "execution_count": null,
   "metadata": {
    "collapsed": true
   },
   "outputs": [],
   "source": []
  },
  {
   "cell_type": "code",
   "execution_count": null,
   "metadata": {
    "collapsed": true
   },
   "outputs": [],
   "source": []
  }
 ],
 "metadata": {
  "kernelspec": {
   "display_name": "Python 3",
   "language": "python",
   "name": "python3"
  },
  "language_info": {
   "codemirror_mode": {
    "name": "ipython",
    "version": 3
   },
   "file_extension": ".py",
   "mimetype": "text/x-python",
   "name": "python",
   "nbconvert_exporter": "python",
   "pygments_lexer": "ipython3",
   "version": "3.6.2"
  }
 },
 "nbformat": 4,
 "nbformat_minor": 2
}
