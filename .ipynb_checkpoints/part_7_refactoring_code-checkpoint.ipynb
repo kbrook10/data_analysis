{
 "cells": [
  {
   "cell_type": "code",
   "execution_count": 1,
   "metadata": {
    "collapsed": true
   },
   "outputs": [],
   "source": [
    "### Step 1: Unit Testing Import necessary libraries\n",
    "import pandas as pd\n",
    "#from urllib.request import urlretrieve\n",
    "\n",
    "# Testing a unit of code to ensure that it does what we expect..."
   ]
  },
  {
   "cell_type": "code",
   "execution_count": 2,
   "metadata": {
    "collapsed": true
   },
   "outputs": [],
   "source": [
    "### Step 2: Import package and assign to variable - To examine the output of the function\n",
    "\n",
    "from jworkflow_pkg.data import get_bdata\n",
    "\n",
    "#data = get_bdata()"
   ]
  },
  {
   "cell_type": "code",
   "execution_count": 3,
   "metadata": {},
   "outputs": [],
   "source": [
    "### Step 3: Ensure the columns equal what we expect\n",
    "\n",
    "# all -> Used to ensure all elements are True\n",
    "\n",
    "#all(data.columns == ['West', 'East', 'Total'])"
   ]
  },
  {
   "cell_type": "code",
   "execution_count": 4,
   "metadata": {
    "collapsed": true
   },
   "outputs": [],
   "source": [
    "# Step 4: Create assertions to test TRUE for columns\n",
    "\n",
    "#assert all(data.columns == ['West', 'East', 'Total'])"
   ]
  },
  {
   "cell_type": "code",
   "execution_count": 5,
   "metadata": {
    "collapsed": true
   },
   "outputs": [],
   "source": [
    "# Step 5: Create test for DatetimeIndex\n",
    "\n",
    "#assert(isinstance(data.index, pd.DatetimeIndex))"
   ]
  },
  {
   "cell_type": "code",
   "execution_count": 6,
   "metadata": {
    "collapsed": true
   },
   "outputs": [],
   "source": [
    "# Step 6: Place assertions into a function\n",
    "\n",
    "def test_bike_data():\n",
    "    data = get_bdata()\n",
    "    assert all(data.columns == ['West', 'East', 'Total'])\n",
    "    assert(isinstance(data.index, pd.DatetimeIndex))"
   ]
  },
  {
   "cell_type": "code",
   "execution_count": 7,
   "metadata": {
    "collapsed": true
   },
   "outputs": [],
   "source": [
    "# Step 7: Automate test with Unit Test Frameworks\n",
    "\n",
    "## (Tip) PyTest is a recommended option https://docs.pytest.org/en/latest/\n"
   ]
  },
  {
   "cell_type": "code",
   "execution_count": 8,
   "metadata": {
    "collapsed": true
   },
   "outputs": [],
   "source": [
    "# Step 8: Create Test Directory within the root directory of project\n",
    "\n",
    "# via $ mkdir jworkflow_pkg/tests\n",
    "# via $ nano jworkflow_pkg/tests/test_data.py -> use test at the beginning of the file name\n",
    "# take code and drop into file...\n",
    "# Save and close\n",
    "\n",
    "test_bike_data()"
   ]
  },
  {
   "cell_type": "code",
   "execution_count": 9,
   "metadata": {
    "collapsed": true
   },
   "outputs": [],
   "source": [
    "# Step 9: Invoke PyTest \n",
    "## This will test everything within the jworkflow_pkg directory\n",
    "## Had to install pytest into environment to complete\n",
    "\n",
    "## (Tips) - Unit testing provides time for functions and allows us to refactor code to speed things up...\n",
    "\n",
    "# via $ python3 -m pytest jworkflow_pkg"
   ]
  },
  {
   "cell_type": "code",
   "execution_count": 10,
   "metadata": {
    "collapsed": true
   },
   "outputs": [],
   "source": [
    "# Step 10: Create Makefile to automate tests\n",
    "\n",
    "# via $ nano Makefile\n",
    "# update contents of file with...\n",
    "# test:\n",
    "#    python3 -m pytest jworkflow_pkg\n",
    "# via $ make test -> this typed in the shell will run the test"
   ]
  },
  {
   "cell_type": "markdown",
   "metadata": {
    "collapsed": true
   },
   "source": [
    "### Part 7 - Refactoring Code"
   ]
  },
  {
   "cell_type": "code",
   "execution_count": 22,
   "metadata": {},
   "outputs": [],
   "source": [
    "# Step 11: Open data.py file and review function setup to reduce time to run\n",
    "\n",
    "# Refactoring:\n",
    "# a) remove the parse_dates attribute\n",
    "# b) investigate python strftime - http://strftime.org/\n",
    "# c) Use try and except just in case the format ever changes; Makes it a little slower if format doesn't work...\n",
    "\n",
    "bdata = pd.read_csv('fremont.csv', index_col='Date')\n",
    "try:\n",
    "    bdata.index = pd.to_datetime(bdata.index, format='%m/%d/%Y %H:%M:%S %p')\n",
    "except TypeError:\n",
    "    bdata.index = pd.to_datetime(bdata.index)"
   ]
  },
  {
   "cell_type": "code",
   "execution_count": 23,
   "metadata": {},
   "outputs": [
    {
     "data": {
      "text/plain": [
       "Index(['10/03/2012 12:00:00 AM', '10/03/2012 01:00:00 AM',\n",
       "       '10/03/2012 02:00:00 AM', '10/03/2012 03:00:00 AM',\n",
       "       '10/03/2012 04:00:00 AM', '10/03/2012 05:00:00 AM',\n",
       "       '10/03/2012 06:00:00 AM', '10/03/2012 07:00:00 AM',\n",
       "       '10/03/2012 08:00:00 AM', '10/03/2012 09:00:00 AM',\n",
       "       ...\n",
       "       '04/30/2018 02:00:00 PM', '04/30/2018 03:00:00 PM',\n",
       "       '04/30/2018 04:00:00 PM', '04/30/2018 05:00:00 PM',\n",
       "       '04/30/2018 06:00:00 PM', '04/30/2018 07:00:00 PM',\n",
       "       '04/30/2018 08:00:00 PM', '04/30/2018 09:00:00 PM',\n",
       "       '04/30/2018 10:00:00 PM', '04/30/2018 11:00:00 PM'],\n",
       "      dtype='object', name='Date', length=48864)"
      ]
     },
     "execution_count": 23,
     "metadata": {},
     "output_type": "execute_result"
    }
   ],
   "source": [
    "bdata.index"
   ]
  },
  {
   "cell_type": "code",
   "execution_count": null,
   "metadata": {
    "collapsed": true
   },
   "outputs": [],
   "source": [
    "bdata.columns = ['West', 'East']\n",
    "bdata['Total'] = bdata['West'] + bdata['East']"
   ]
  },
  {
   "cell_type": "code",
   "execution_count": 24,
   "metadata": {
    "collapsed": true
   },
   "outputs": [],
   "source": [
    "# Step 12: Add refactored try and except to main data.py file to refactor the code"
   ]
  },
  {
   "cell_type": "code",
   "execution_count": null,
   "metadata": {
    "collapsed": true
   },
   "outputs": [],
   "source": [
    "# Step 13: Run unit test to make sure things are working\n",
    "\n",
    "# via $ make test"
   ]
  },
  {
   "cell_type": "code",
   "execution_count": null,
   "metadata": {
    "collapsed": true
   },
   "outputs": [],
   "source": []
  }
 ],
 "metadata": {
  "kernelspec": {
   "display_name": "Python 3",
   "language": "python",
   "name": "python3"
  },
  "language_info": {
   "codemirror_mode": {
    "name": "ipython",
    "version": 3
   },
   "file_extension": ".py",
   "mimetype": "text/x-python",
   "name": "python",
   "nbconvert_exporter": "python",
   "pygments_lexer": "ipython3",
   "version": "3.6.2"
  }
 },
 "nbformat": 4,
 "nbformat_minor": 2
}
